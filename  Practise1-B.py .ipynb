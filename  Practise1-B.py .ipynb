{
 "cells": [
  {
   "cell_type": "code",
   "execution_count": 18,
   "metadata": {},
   "outputs": [
    {
     "name": "stdout",
     "output_type": "stream",
     "text": [
      "Enter any number:-50\n",
      "6250000.0\n"
     ]
    }
   ],
   "source": [
    "x=float(input(\"Enter any number:\")) \n",
    "pi=3.14\n",
    "\n",
    "if(x<-100):\n",
    "    fx=float(-x)\n",
    "    print(fx)\n",
    "\n",
    "elif(-100<=x<=-25):\n",
    "    fx=float(x**4)\n",
    "    print(fx)\n",
    "\n",
    "elif(-25<x<=0):\n",
    "    fx=float(3*x**2-1)\n",
    "    print(fx)\n",
    "\n",
    "elif(0<x<=100):\n",
    "    fx=float(pi/2*x+3**x)\n",
    "    print(fx)\n",
    "\n",
    "elif(x>100):\n",
    "    fx=float(x)\n",
    "    print(fx)\n",
    "    #### The best data type that suit fx is (float) because the fourth function will give us decimal value."
   ]
  },
  {
   "cell_type": "code",
   "execution_count": null,
   "metadata": {},
   "outputs": [],
   "source": []
  }
 ],
 "metadata": {
  "kernelspec": {
   "display_name": "Python 3",
   "language": "python",
   "name": "python3"
  },
  "language_info": {
   "codemirror_mode": {
    "name": "ipython",
    "version": 3
   },
   "file_extension": ".py",
   "mimetype": "text/x-python",
   "name": "python",
   "nbconvert_exporter": "python",
   "pygments_lexer": "ipython3",
   "version": "3.7.0"
  }
 },
 "nbformat": 4,
 "nbformat_minor": 2
}
