{
 "cells": [
  {
   "cell_type": "code",
   "execution_count": 9,
   "metadata": {},
   "outputs": [
    {
     "name": "stdout",
     "output_type": "stream",
     "text": [
      "Enter the temperature value:100\n",
      "Choose the number of the needed operation: (1- C to F) (2- F to C):1\n",
      "\n",
      "You chose the celsius to fahrenheit converter:\n",
      "C = 212.0 F\n"
     ]
    }
   ],
   "source": [
    "print(\"welcome to this program where you can convret from celsius to fahrenheit or vice versa\")\n",
    "x=int(input(\"Enter the temperature value:\"))\n",
    "y=input(\"Choose the number of the needed operation: (1- C to F) (2- F to C):\")\n",
    "\n",
    "if y=='1':\n",
    "    print(\"\") #to make one line space\n",
    "    \n",
    "    print(\"You chose the celsius to fahrenheit converter:\")\n",
    "    \n",
    "    print(\"C =\", (x*9/5)+32,\"F\")\n",
    "    \n",
    "elif y=='2':\n",
    "    print(\"\") #to make one line space\n",
    "    \n",
    "    print(\"You chose the fahrenheit to celsius converter:\")\n",
    "    \n",
    "    print(\"F =\", (x-32)*5/9, \"C\")"
   ]
  }
 ],
 "metadata": {
  "kernelspec": {
   "display_name": "Python 3",
   "language": "python",
   "name": "python3"
  },
  "language_info": {
   "codemirror_mode": {
    "name": "ipython",
    "version": 3
   },
   "file_extension": ".py",
   "mimetype": "text/x-python",
   "name": "python",
   "nbconvert_exporter": "python",
   "pygments_lexer": "ipython3",
   "version": "3.7.0"
  }
 },
 "nbformat": 4,
 "nbformat_minor": 2
}
