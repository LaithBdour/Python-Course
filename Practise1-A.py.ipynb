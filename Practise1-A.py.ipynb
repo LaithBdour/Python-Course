{
 "cells": [
  {
   "cell_type": "code",
   "execution_count": 21,
   "metadata": {},
   "outputs": [
    {
     "name": "stdout",
     "output_type": "stream",
     "text": [
      "Enter your name:laith\n",
      "Enter the first nmber:2\n",
      "Enter the second number:3\n",
      "Welcome laith this program will give you add, sub, multi, divi, reminder of division and exponent of first to the other.\n",
      "First no. + second no. : 5.0\n",
      "First no. - second no.: -1.0\n",
      "First no. * second no.: 6.0\n",
      "First no. / second no.: 0.6666666666666666\n",
      "First no. % second no.: 2.0\n",
      "First no. ^ second no. 8.0\n"
     ]
    }
   ],
   "source": [
    "x= input(\"Enter your name:\")\n",
    "y=float(input(\"Enter the first nmber:\"))\n",
    "z=float(input(\"Enter the second number:\"))\n",
    "\n",
    "print(f\"Welcome {x} this program will give you add, sub, multi, divi, reminder of division and exponent of first to the other.\")\n",
    "\n",
    "print(\"First no. + second no. :\",y+z)\n",
    "\n",
    "print(\"First no. - second no.:\",y-z)\n",
    "\n",
    "print(\"First no. * second no.:\",y*z)\n",
    "\n",
    "print(\"First no. / second no.:\",y/z)\n",
    "\n",
    "print(\"First no. % second no.:\",y%z) # (%) is the reminder of division.\n",
    "\n",
    "print(\"First no. ^ second no.:\",y**z)"
   ]
  }
 ],
 "metadata": {
  "kernelspec": {
   "display_name": "Python 3",
   "language": "python",
   "name": "python3"
  },
  "language_info": {
   "codemirror_mode": {
    "name": "ipython",
    "version": 3
   },
   "file_extension": ".py",
   "mimetype": "text/x-python",
   "name": "python",
   "nbconvert_exporter": "python",
   "pygments_lexer": "ipython3",
   "version": "3.7.0"
  }
 },
 "nbformat": 4,
 "nbformat_minor": 2
}
